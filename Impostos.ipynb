{
 "cells": [
  {
   "cell_type": "code",
   "execution_count": 1,
   "metadata": {},
   "outputs": [
    {
     "name": "stdout",
     "output_type": "stream",
     "text": [
      "Valor liguido de 7038.75. Pis= 48.75, Conf= 225.00, Ir= 112.50, Csll= 75.00\n",
      "Valor total de impostos 461.25 e Valor Digitado 7500\n"
     ]
    }
   ],
   "source": [
    "#Calculo de Impostos\n",
    "\n",
    "import PySimpleGUI as sg\n",
    "\n",
    "sg.theme('Topanga')\n",
    "\n",
    "valor = sg.popup_get_text('Coloque o Valor (ao inves de , use .)')\n",
    "decimal = float(valor)\n",
    "ddecimal = '{0:.2f}'.format(decimal)\n",
    "\n",
    "pis = (decimal * 0.0065)\n",
    "ppis = '{0:.2f}'.format(pis)\n",
    "\n",
    "conf = (decimal * 0.03)\n",
    "cconf = '{0:.2f}'.format(conf)\n",
    "\n",
    "ir = (decimal * 0.015)\n",
    "iir = '{0:.2f}'.format(ir)\n",
    "\n",
    "csll = (decimal * 0.01)\n",
    "ccsll = '{0:.2f}'.format(csll)\n",
    "\n",
    "total = (ppis + cconf + iir + ccsll)\n",
    "stotal = (pis + conf + ir + csll)\n",
    "ttt = '{0:.2f}'.format(stotal)\n",
    "\n",
    "odi = (decimal - stotal)\n",
    "liquido = '{0:.2f}'.format(odi)\n",
    "\n",
    "print('Valor liguido de {}. Pis= {}, Conf= {}, Ir= {}, Csll= {}'.format(liquido, ppis, cconf, iir,  ccsll))\n",
    "print('Valor total de impostos {} e Valor Digitado {}'.format(ttt, valor))"
   ]
  }
 ],
 "metadata": {
  "kernelspec": {
   "display_name": "Python 3",
   "language": "python",
   "name": "python3"
  },
  "language_info": {
   "codemirror_mode": {
    "name": "ipython",
    "version": 3
   },
   "file_extension": ".py",
   "mimetype": "text/x-python",
   "name": "python",
   "nbconvert_exporter": "python",
   "pygments_lexer": "ipython3",
   "version": "3.13.2"
  }
 },
 "nbformat": 4,
 "nbformat_minor": 2
}
