{
 "cells": [
  {
   "cell_type": "code",
   "execution_count": null,
   "id": "acb2d461",
   "metadata": {},
   "outputs": [
    {
     "data": {
      "text/plain": [
       "'OK'"
      ]
     },
     "execution_count": 4,
     "metadata": {},
     "output_type": "execute_result"
    }
   ],
   "source": [
    "#Automação ultilizada para Pegar informações do Excel e Lançar no Departamento Contabil do Sistema Dominio\n",
    "\n",
    "import pyautogui\n",
    "import time\n",
    "import PySimpleGUI as sg\n",
    "\n",
    "sg.theme('Topanga')\n",
    "\n",
    "pyautogui.PAUSE = 0.45\n",
    "\n",
    "X = sg.popup_get_text('Quantidade')\n",
    "M = int(X)\n",
    "time.sleep(10)\n",
    "\n",
    "for i in range(M):\n",
    "\n",
    "    pyautogui.click(240,198) #pega na planilha\n",
    "    pyautogui.hotkey('Ctrl','a')\n",
    "    pyautogui.hotkey('Ctrl','c')\n",
    "    pyautogui.hotkey('Alt','Tab')\n",
    "    pyautogui.doubleClick(106,237) #data no sistema\n",
    "    pyautogui.hotkey('Ctrl','v')\n",
    "    pyautogui.hotkey('Alt','Tab')\n",
    "    pyautogui.click(142,196) #fechar seleção\n",
    "    pyautogui.press(['right', 'right'])\n",
    "    pyautogui.click(245,198) #selecionar\n",
    "    pyautogui.hotkey('Ctrl','a')\n",
    "    pyautogui.hotkey('Ctrl','c')\n",
    "    pyautogui.hotkey('Alt','Tab')\n",
    "    pyautogui.press(['Tab','Tab']) #debitar\n",
    "    pyautogui.hotkey('Ctrl','v')\n",
    "    pyautogui.press('Tab')\n",
    "    pyautogui.write('4')\n",
    "    pyautogui.press('Enter')\n",
    "    pyautogui.hotkey('Alt','Tab')\n",
    "    pyautogui.click(142,196) #fechar seleção\n",
    "    pyautogui.press('right')\n",
    "    pyautogui.click(245,198) #selecionar\n",
    "    pyautogui.hotkey('Ctrl','a')\n",
    "    pyautogui.hotkey('Ctrl','c')\n",
    "    pyautogui.hotkey('Alt','Tab')\n",
    "    pyautogui.hotkey('Ctrl','v')\n",
    "    pyautogui.press('Enter')\n",
    "    pyautogui.hotkey('Alt','Tab')\n",
    "    pyautogui.click(142,196) #fechar seleção\n",
    "    pyautogui.press('right')\n",
    "    pyautogui.click(245,198) #selecionar\n",
    "    pyautogui.hotkey('Ctrl','a')\n",
    "    pyautogui.hotkey('Ctrl','c')\n",
    "    pyautogui.hotkey('Alt','Tab')\n",
    "    pyautogui.hotkey('Ctrl','v')\n",
    "    pyautogui.press('Enter')\n",
    "    pyautogui.click(682,646) #gravar\n",
    "    pyautogui.hotkey('Alt','Tab')\n",
    "    pyautogui.click(142,196) #fechar seleção\n",
    "    pyautogui.press('right')\n",
    "    pyautogui.write('ok')\n",
    "    pyautogui.press('Enter')\n",
    "    pyautogui.press(['left', 'left', 'left', 'left', 'left'])\n",
    "\n",
    "sg.popup('Finalizado')"
   ]
  }
 ],
 "metadata": {
  "kernelspec": {
   "display_name": "Python 3",
   "language": "python",
   "name": "python3"
  },
  "language_info": {
   "codemirror_mode": {
    "name": "ipython",
    "version": 3
   },
   "file_extension": ".py",
   "mimetype": "text/x-python",
   "name": "python",
   "nbconvert_exporter": "python",
   "pygments_lexer": "ipython3",
   "version": "3.13.2"
  }
 },
 "nbformat": 4,
 "nbformat_minor": 5
}
