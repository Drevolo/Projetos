{
 "cells": [
  {
   "cell_type": "code",
   "execution_count": null,
   "metadata": {},
   "outputs": [],
   "source": [
    "#Realizado para gerar valores aleatorios para Faturamento\n",
    "\n",
    "import secrets\n",
    "import PySimpleGUI as sg\n",
    "\n",
    "sg.theme('Topanga')\n",
    "\n",
    "X = sg.popup_get_text('Quantidade de Meses')\n",
    "M = int(X)\n",
    "\n",
    "FF = []\n",
    "\n",
    "for i in range(M):\n",
    "\n",
    "    F = int(secrets.choice(range(250000, 300000)))\n",
    "\n",
    "    FF.append(F)\n",
    "\n",
    "    print('{},00' .format(F))\n",
    "\n",
    "\n",
    "soma1 = sum(FF)\n",
    "print('Total de {},00 a Prazo'.format(soma1))\n"
   ]
  }
 ],
 "metadata": {
  "kernelspec": {
   "display_name": "Python 3",
   "language": "python",
   "name": "python3"
  },
  "language_info": {
   "codemirror_mode": {
    "name": "ipython",
    "version": 3
   },
   "file_extension": ".py",
   "mimetype": "text/x-python",
   "name": "python",
   "nbconvert_exporter": "python",
   "pygments_lexer": "ipython3",
   "version": "3.13.2"
  }
 },
 "nbformat": 4,
 "nbformat_minor": 2
}
