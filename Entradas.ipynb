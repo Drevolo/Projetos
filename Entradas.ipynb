{
 "cells": [
  {
   "cell_type": "code",
   "execution_count": null,
   "metadata": {},
   "outputs": [
    {
     "name": "stdout",
     "output_type": "stream",
     "text": [
      "Fim\n"
     ]
    }
   ],
   "source": [
    "#Automação para Baixar NF de Entradas na Sefaz GO\n",
    "\n",
    "import PySimpleGUI as sg\n",
    "import pyautogui\n",
    "import time\n",
    "\n",
    "sg.theme('Topanga')\n",
    "\n",
    "pyautogui.PAUSE = 0.5\n",
    "\n",
    "pi = '01052024'\n",
    "pf = '31052024'\n",
    "\n",
    "#Abrir o Site\n",
    "cc = sg.popup_get_text('Inscrição Estadual')\n",
    "time.sleep(2)\n",
    "pyautogui.hotkey('win','1')\n",
    "time.sleep(3)\n",
    "pyautogui.write('acesso restrito sefaz go')\n",
    "pyautogui.press('Enter')\n",
    "pyautogui.click(244,301)\n",
    "\n",
    "o1 = sg.popup_get_text('Coloque o Certificado. Quando terminar escreva (ok)')\n",
    "if o1 == 'ok':\n",
    "\n",
    "    pyautogui.click(778,284)\n",
    "    time.sleep(3)\n",
    "    pyautogui.click(288,238)\n",
    "    time.sleep(2)\n",
    "    pyautogui.click(781,388)\n",
    "    time.sleep(2)\n",
    "    pyautogui.click(293,235)\n",
    "    time.sleep(3)\n",
    "    pyautogui.click(382,257)\n",
    "    pyautogui.write(pi)\n",
    "    pyautogui.press('Tab')\n",
    "    pyautogui.write(pf)\n",
    "    pyautogui.press('Tab')\n",
    "    pyautogui.write(cc)\n",
    "    pyautogui.click(803,707)\n",
    "\n",
    "    o2 = sg.popup_get_text('(ok)')\n",
    "    if o2 == 'ok':\n",
    "\n",
    "        pyautogui.click(827,698)\n",
    "        pyautogui.click(1005,406)\n",
    "\n",
    "        o3 = sg.popup_get_text('(ok)')\n",
    "        if o3 == 'ok':\n",
    "\n",
    "            time.sleep(5)\n",
    "\n",
    "sg.popup('Fim')\n",
    "print('Fim')"
   ]
  }
 ],
 "metadata": {
  "kernelspec": {
   "display_name": "Python 3",
   "language": "python",
   "name": "python3"
  },
  "language_info": {
   "codemirror_mode": {
    "name": "ipython",
    "version": 3
   },
   "file_extension": ".py",
   "mimetype": "text/x-python",
   "name": "python",
   "nbconvert_exporter": "python",
   "pygments_lexer": "ipython3",
   "version": "3.12.1"
  }
 },
 "nbformat": 4,
 "nbformat_minor": 2
}
