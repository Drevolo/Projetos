{
 "cells": [
  {
   "cell_type": "code",
   "execution_count": null,
   "metadata": {},
   "outputs": [
    {
     "name": "stdout",
     "output_type": "stream",
     "text": [
      "Fim\n"
     ]
    }
   ],
   "source": [
    "#Automação para Geração do DIRF no sistema Dominio\n",
    "\n",
    "import PySimpleGUI as sg\n",
    "import pyautogui\n",
    "import time\n",
    "\n",
    "sg.theme('Topanga')\n",
    "\n",
    "pyautogui.PAUSE = 0.5\n",
    "\n",
    "pyautogui.hotkey('Alt','Tab')\n",
    "\n",
    "while True:\n",
    "\n",
    "    em = sg.popup_get_text('Qual Empresa?')\n",
    "    pyautogui.click(1244,77)\n",
    "    pyautogui.write(em)\n",
    "    time.sleep(1)\n",
    "    pyautogui.press('Down')\n",
    "    time.sleep(1)\n",
    "    pyautogui.press('Enter')\n",
    "\n",
    "    time.sleep(2)\n",
    "    pyautogui.click(386,48)\n",
    "    pyautogui.click(675,143)\n",
    "    pyautogui.click(800,170)\n",
    "    pyautogui.click(930,189)\n",
    "    time.sleep(2)\n",
    "    pyautogui.click(565,253)\n",
    "    pyautogui.press('F2')\n",
    "    time.sleep(2)\n",
    "\n",
    "    v1 = pyautogui.pixel(610,375)\n",
    "    if v1 == (76, 114, 212):\n",
    "\n",
    "        pyautogui.press('Enter')\n",
    "        time.sleep(2)\n",
    "        pyautogui.press('Esc')\n",
    "\n",
    "    else:\n",
    "        pyautogui.press('Enter')\n",
    "        time.sleep(4)\n",
    "        pyautogui.click(926,181)\n",
    "        time.sleep(10)\n",
    "\n",
    "        v2 = pyautogui.pixel(610,375)\n",
    "        if v2 == (76, 114, 212):\n",
    "\n",
    "            pyautogui.press('Enter')\n",
    "            time.sleep(2)\n",
    "            pyautogui.press('Esc')\n",
    "\n",
    "        else:\n",
    "            pyautogui.click(31,331)\n",
    "            time.sleep(15)\n",
    "\n",
    "            o2 = sg.popup_get_text('(ok)')\n",
    "            if o2 == 'ok':\n",
    "\n",
    "                time.sleep(2)\n",
    "                pyautogui.press('Esc')\n",
    "                time.sleep(2)\n",
    "                pyautogui.press('Esc')\n",
    "            \n",
    "            else:\n",
    "                pass\n",
    "\n",
    "\n",
    "    o1 = sg.popup_get_text('Continuar? (Ou \"sim\" ou \"não\")')\n",
    "    if o1 == 'sim':\n",
    "        pass\n",
    "\n",
    "    else:\n",
    "        break\n",
    "\n",
    "\n",
    "sg.popup('Fim')\n",
    "print('Fim')\n"
   ]
  }
 ],
 "metadata": {
  "kernelspec": {
   "display_name": "Python 3",
   "language": "python",
   "name": "python3"
  },
  "language_info": {
   "codemirror_mode": {
    "name": "ipython",
    "version": 3
   },
   "file_extension": ".py",
   "mimetype": "text/x-python",
   "name": "python",
   "nbconvert_exporter": "python",
   "pygments_lexer": "ipython3",
   "version": "3.12.1"
  }
 },
 "nbformat": 4,
 "nbformat_minor": 2
}
